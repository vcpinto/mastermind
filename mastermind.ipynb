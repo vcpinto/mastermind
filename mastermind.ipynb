{
 "cells": [
  {
   "cell_type": "code",
   "execution_count": 1,
   "id": "4313d7cc",
   "metadata": {},
   "outputs": [
    {
     "name": "stdout",
     "output_type": "stream",
     "text": [
      "make your guess: 1111\n",
      "{'black': 0, 'white': 0}\n",
      "make your guess: 2222\n",
      "{'black': 0, 'white': 1}\n",
      "make your guess: 3333\n",
      "{'black': 0, 'white': 1}\n",
      "make your guess: 4444\n",
      "{'black': 0, 'white': 2}\n",
      "make your guess: 5555\n",
      "{'black': 0, 'white': 0}\n",
      "make your guess: 2344\n",
      "{'black': 3, 'white': 1}\n",
      "make your guess: 3424\n",
      "{'black': 3, 'white': 1}\n",
      "make your guess: 4234\n",
      "you guessed 4234! you won\n"
     ]
    }
   ],
   "source": [
    "import random\n",
    "code=[]\n",
    "size_code=4\n",
    "for i in range(size_code):\n",
    "    code.append(str(random.randint(1,6)))\n",
    "code=''.join(code)\n",
    "win=0\n",
    "\n",
    "def guess():\n",
    "    global win\n",
    "    \n",
    "    g=input('make your guess: ')\n",
    "    dic={'black':0,'white':0}\n",
    "    \n",
    "    if len(g) != size_code:\n",
    "        print('your guess has to be '+str(size_code)+' digits long.')\n",
    "        return\n",
    "\n",
    "    for i in range(len(set(g))):\n",
    "        if g.count(list(set(g))[i])>code.count(list(set(g))[i]):\n",
    "            dic['black']+=code.count(list(set(g))[i])\n",
    "        else:\n",
    "            dic['black']+=g.count(list(set(g))[i])\n",
    "    for i in range(4):\n",
    "        if g[i]==code[i]:\n",
    "            dic['white']+=1\n",
    "            dic['black']-=1\n",
    "    if g==code:\n",
    "        win=1\n",
    "        return\n",
    "    else:\n",
    "        return print(dic)\n",
    "  \n",
    "        \n",
    "while True:\n",
    "    \n",
    "    if win==1:\n",
    "        print('you guessed '+code+'! you won')\n",
    "        break\n",
    "    else:\n",
    "        guess()  \n",
    "    \n",
    "    "
   ]
  },
  {
   "cell_type": "code",
   "execution_count": 17,
   "id": "ec5feccc",
   "metadata": {},
   "outputs": [
    {
     "name": "stdout",
     "output_type": "stream",
     "text": [
      "Best starting guess: RGBR\n"
     ]
    }
   ],
   "source": []
  },
  {
   "cell_type": "code",
   "execution_count": null,
   "id": "7c0cfa72",
   "metadata": {},
   "outputs": [],
   "source": []
  },
  {
   "cell_type": "code",
   "execution_count": null,
   "id": "c82b5c09",
   "metadata": {},
   "outputs": [],
   "source": []
  }
 ],
 "metadata": {
  "kernelspec": {
   "display_name": "Python 3 (ipykernel)",
   "language": "python",
   "name": "python3"
  },
  "language_info": {
   "codemirror_mode": {
    "name": "ipython",
    "version": 3
   },
   "file_extension": ".py",
   "mimetype": "text/x-python",
   "name": "python",
   "nbconvert_exporter": "python",
   "pygments_lexer": "ipython3",
   "version": "3.9.13"
  }
 },
 "nbformat": 4,
 "nbformat_minor": 5
}
